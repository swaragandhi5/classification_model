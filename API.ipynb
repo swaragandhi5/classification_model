{
  "nbformat": 4,
  "nbformat_minor": 0,
  "metadata": {
    "colab": {
      "provenance": []
    },
    "kernelspec": {
      "name": "python3",
      "display_name": "Python 3"
    },
    "language_info": {
      "name": "python"
    }
  },
  "cells": [
    {
      "cell_type": "markdown",
      "source": [
        "## **1. Installing libraries**<br>\n",
        "We are using flask for this API. "
      ],
      "metadata": {
        "id": "Uea5t6FfKKek"
      }
    },
    {
      "cell_type": "code",
      "execution_count": 1,
      "metadata": {
        "colab": {
          "base_uri": "https://localhost:8080/"
        },
        "id": "8hQjkvtsAbNv",
        "outputId": "89dfa0df-d0ba-42e8-d79a-9fd47aac54e9"
      },
      "outputs": [
        {
          "output_type": "stream",
          "name": "stdout",
          "text": [
            "Looking in indexes: https://pypi.org/simple, https://us-python.pkg.dev/colab-wheels/public/simple/\n",
            "Requirement already satisfied: flask in /usr/local/lib/python3.8/dist-packages (1.1.4)\n",
            "Requirement already satisfied: itsdangerous<2.0,>=0.24 in /usr/local/lib/python3.8/dist-packages (from flask) (1.1.0)\n",
            "Requirement already satisfied: Jinja2<3.0,>=2.10.1 in /usr/local/lib/python3.8/dist-packages (from flask) (2.11.3)\n",
            "Requirement already satisfied: Werkzeug<2.0,>=0.15 in /usr/local/lib/python3.8/dist-packages (from flask) (1.0.1)\n",
            "Requirement already satisfied: click<8.0,>=5.1 in /usr/local/lib/python3.8/dist-packages (from flask) (7.1.2)\n",
            "Requirement already satisfied: MarkupSafe>=0.23 in /usr/local/lib/python3.8/dist-packages (from Jinja2<3.0,>=2.10.1->flask) (2.0.1)\n"
          ]
        }
      ],
      "source": [
        "!pip install flask"
      ]
    },
    {
      "cell_type": "code",
      "source": [
        "!pip install flask\n",
        "import tensorflow as tf\n",
        "from tensorflow.keras.preprocessing.image import load_img, img_to_array\n",
        "from flask import Flask, jsonify, request"
      ],
      "metadata": {
        "id": "__8L0oTECKK9"
      },
      "execution_count": null,
      "outputs": []
    },
    {
      "cell_type": "markdown",
      "source": [
        "## **2. Load the saved model**"
      ],
      "metadata": {
        "id": "hf-9ltS_KYhd"
      }
    },
    {
      "cell_type": "code",
      "source": [
        "app = Flask(__name__)\n",
        "model = tf.keras.models.load_model('CNN_model.h5')"
      ],
      "metadata": {
        "id": "AuqhCinTFBfo"
      },
      "execution_count": null,
      "outputs": []
    },
    {
      "cell_type": "markdown",
      "source": [
        "## **3. Function to preprocess the image**"
      ],
      "metadata": {
        "id": "Shklh5QnKflz"
      }
    },
    {
      "cell_type": "code",
      "source": [
        "def preprocess_image(image):\n",
        "    img = load_img(image, target_size=(3000, 3000))\n",
        "    img_array = img_to_array(img)\n",
        "    img_array = img_array.reshape((1,) + img_array.shape)\n",
        "    img_array /= 255.0\n",
        "    return img_array"
      ],
      "metadata": {
        "id": "jXrg1rzmFEVA"
      },
      "execution_count": null,
      "outputs": []
    },
    {
      "cell_type": "markdown",
      "source": [
        "## **4. Defining route for API**"
      ],
      "metadata": {
        "id": "tQvoKGdcKjiZ"
      }
    },
    {
      "cell_type": "code",
      "source": [
        "@app.route('/predict', methods=['POST'])\n",
        "def predict():\n",
        "    if request.method == 'POST':\n",
        "        image = request.files['image']\n",
        "        img_array = preprocess_image(image)\n",
        "        prediction = model.predict(img_array)\n",
        "        class_names = ['Bed', 'Chair', 'Sofa']\n",
        "        result = {'class': class_names[np.argmax(prediction)]}\n",
        "        return jsonify(result)"
      ],
      "metadata": {
        "id": "cTZfQqxpFIvI"
      },
      "execution_count": null,
      "outputs": []
    },
    {
      "cell_type": "markdown",
      "source": [
        "## **5. Running flask and sending POST request with image.**"
      ],
      "metadata": {
        "id": "_gk770EPKvut"
      }
    },
    {
      "cell_type": "code",
      "source": [
        "if __name__ == '__main__':\n",
        "    app.run()"
      ],
      "metadata": {
        "id": "ALrOPVjjFJdQ"
      },
      "execution_count": null,
      "outputs": []
    },
    {
      "cell_type": "code",
      "source": [
        "import requests\n",
        "\n",
        "url = 'http://127.0.0.1:5000/predict'\n",
        "file = {'image': open('/content/bed.jpg', 'rb')}\n",
        "response = requests.post('/content/bed.jpg', files='Images')\n",
        "print(response.json())"
      ],
      "metadata": {
        "id": "fxv_6XNLFMhV"
      },
      "execution_count": null,
      "outputs": []
    }
  ]
}